{
 "cells": [
  {
   "cell_type": "code",
   "execution_count": 14,
   "metadata": {},
   "outputs": [
    {
     "name": "stdin",
     "output_type": "stream",
     "text": [
      "enter first value 99\n",
      "enter second value 2\n",
      "enter any operator ^\n"
     ]
    },
    {
     "name": "stdout",
     "output_type": "stream",
     "text": [
      "9801 answer\n"
     ]
    }
   ],
   "source": [
    "val1=int(input('enter first value'))\n",
    "val2=int(input('enter second value'))\n",
    "operator=input('enter any operator')\n",
    "if operator == '+':\n",
    "    val = val1 + val2\n",
    "    print(val,'answer')\n",
    "elif operator == '-':\n",
    "    val = val1 - val2\n",
    "    print(val,'answer')\n",
    "elif operator == '*':\n",
    "    val = val1 * val2\n",
    "    print(val,'answer')\n",
    "elif operator == '/':\n",
    "    val = val1 / val2\n",
    "    print(val,'answer')\n",
    "elif operator == '^':\n",
    "    val = val1 ** val2\n",
    "    print(val,'answer')\n",
    "else:\n",
    "    print('enter correct operator')"
   ]
  },
  {
   "cell_type": "code",
   "execution_count": 2,
   "metadata": {},
   "outputs": [
    {
     "name": "stdin",
     "output_type": "stream",
     "text": [
      "enter numeric value 8\n"
     ]
    },
    {
     "name": "stdout",
     "output_type": "stream",
     "text": [
      "thers is no numeric value\n"
     ]
    }
   ],
   "source": [
    "mylist = ['1','A','4']\n",
    "x=int(input('enter numeric value'))\n",
    "for item in mylist:\n",
    "    if x == item:\n",
    "        mynewlist.append(item)\n",
    "        print('there is a numeric value')\n",
    "    else:\n",
    "        print('thers is no numeric value')\n",
    "        break"
   ]
  },
  {
   "cell_type": "code",
   "execution_count": 3,
   "metadata": {},
   "outputs": [
    {
     "name": "stdout",
     "output_type": "stream",
     "text": [
      "{'first name': 'hadiya', 'last name': 'feroz', 'roll no.': '26', 'city': 'khi'}\n"
     ]
    }
   ],
   "source": [
    "hadiya = {\"first name\": \"hadiya\",\"last name\": \"feroz\",\"roll no.\": \"26\"}\n",
    "hadiya[\"city\"] = \"khi\"\n",
    "print(hadiya)\n"
   ]
  },
  {
   "cell_type": "code",
   "execution_count": 6,
   "metadata": {},
   "outputs": [
    {
     "name": "stdout",
     "output_type": "stream",
     "text": [
      "70\n"
     ]
    }
   ],
   "source": [
    "d = {'key1': 9,'key2': 14,'key3': 47}\n",
    "sum1 = sum(d[item] for item in d)\n",
    "print(sum1)"
   ]
  },
  {
   "cell_type": "code",
   "execution_count": 7,
   "metadata": {},
   "outputs": [
    {
     "name": "stdout",
     "output_type": "stream",
     "text": [
      "[10, 20, 30, 40, 50]\n"
     ]
    }
   ],
   "source": [
    "def unique_list(list):\n",
    "    uniq_list = []\n",
    "    uniq_set = set()\n",
    "    for item in list:\n",
    "       if item not in uniq_set:\n",
    "            uniq_list.append(item)\n",
    "            uniq_set.add(item)\n",
    "    return uniq_list\n",
    " \n",
    "list = [10,20,30,10,10,30,40,50]\n",
    "print(unique_list(list))"
   ]
  },
  {
   "cell_type": "code",
   "execution_count": 1,
   "metadata": {},
   "outputs": [
    {
     "name": "stdout",
     "output_type": "stream",
     "text": [
      "Yes 'test' key exists in dict\n"
     ]
    }
   ],
   "source": [
    "wordFreqDic = {\n",
    "    \"Hello\": 56,\n",
    "    \"at\" : 23 ,\n",
    "    \"test\" : 43,\n",
    "    \"this\" : 78\n",
    "    }\n",
    "if \"test\" in wordFreqDic:\n",
    "    print(\"Yes 'test' key exists in dict\")\n",
    "else:\n",
    "    print(\"No 'test' key does not exists in dict\") "
   ]
  },
  {
   "cell_type": "code",
   "execution_count": null,
   "metadata": {},
   "outputs": [],
   "source": []
  }
 ],
 "metadata": {
  "kernelspec": {
   "display_name": "Python 3",
   "language": "python",
   "name": "python3"
  },
  "language_info": {
   "codemirror_mode": {
    "name": "ipython",
    "version": 3
   },
   "file_extension": ".py",
   "mimetype": "text/x-python",
   "name": "python",
   "nbconvert_exporter": "python",
   "pygments_lexer": "ipython3",
   "version": "3.7.3"
  }
 },
 "nbformat": 4,
 "nbformat_minor": 4
}
